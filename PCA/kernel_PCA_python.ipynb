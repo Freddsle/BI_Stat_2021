{
 "cells": [
  {
   "cell_type": "markdown",
   "id": "397784ed",
   "metadata": {},
   "source": [
    "# Kernel PCA in python\n",
    "\n",
    "Run on data from `./Data/all_in_one.csv`. It's a file which combined files `train.csv` and `unique_m.csv`."
   ]
  },
  {
   "cell_type": "code",
   "execution_count": 1,
   "id": "70bb5077",
   "metadata": {},
   "outputs": [],
   "source": [
    "import pandas as pd\n",
    "import numpy as np\n",
    "\n",
    "from sklearn.model_selection import train_test_split\n",
    "from sklearn.decomposition import KernelPCA\n",
    "from sklearn.preprocessing import StandardScaler\n",
    "from sklearn.linear_model import LinearRegression\n",
    "\n",
    "import statsmodels.api as sm\n",
    "from sklearn.metrics import r2_score\n",
    "\n",
    "np.random.seed(42)"
   ]
  },
  {
   "cell_type": "markdown",
   "id": "ffd0a880",
   "metadata": {},
   "source": [
    "### Downloading, spliting and standartisition"
   ]
  },
  {
   "cell_type": "code",
   "execution_count": 29,
   "id": "a92d003c",
   "metadata": {},
   "outputs": [
    {
     "data": {
      "text/plain": [
       "(21263, 159)"
      ]
     },
     "execution_count": 29,
     "metadata": {},
     "output_type": "execute_result"
    }
   ],
   "source": [
    "# download\n",
    "data = pd.read_csv('./Data/all_in_one.csv')"
   ]
  },
  {
   "cell_type": "code",
   "execution_count": 3,
   "id": "4c7b43f9",
   "metadata": {},
   "outputs": [],
   "source": [
    "# split \n",
    "train, test = train_test_split(data, test_size = 0.25, random_state = 0)\n",
    "\n",
    "X_train = train.drop('critical_temp', axis=1)\n",
    "X_test = test.drop('critical_temp', axis=1)\n",
    "\n",
    "y_train = train[['critical_temp']]\n",
    "y_test = test[['critical_temp']]"
   ]
  },
  {
   "cell_type": "code",
   "execution_count": 4,
   "id": "c7870c20",
   "metadata": {},
   "outputs": [],
   "source": [
    "# standartisation\n",
    "\n",
    "sc = StandardScaler()\n",
    "X_train = sc.fit_transform(X_train)\n",
    "X_test = sc.transform(X_test)"
   ]
  },
  {
   "cell_type": "markdown",
   "id": "ac8ae82e",
   "metadata": {},
   "source": [
    "### KPCA with all components"
   ]
  },
  {
   "cell_type": "code",
   "execution_count": 5,
   "id": "6bb56cc3",
   "metadata": {},
   "outputs": [],
   "source": [
    "# KPCA with all components\n",
    "\n",
    "kpca = KernelPCA(n_components = 158, kernel = 'rbf', n_jobs=14)"
   ]
  },
  {
   "cell_type": "code",
   "execution_count": 7,
   "id": "98f1ba85",
   "metadata": {},
   "outputs": [],
   "source": [
    "X_train = kpca.fit_transform(X_train)\n",
    "X_test = kpca.transform(X_test)"
   ]
  },
  {
   "cell_type": "code",
   "execution_count": 8,
   "id": "e266b01e",
   "metadata": {},
   "outputs": [],
   "source": [
    "# Run linear regression\n",
    "l_model = LinearRegression()"
   ]
  },
  {
   "cell_type": "markdown",
   "id": "2e346c60",
   "metadata": {},
   "source": [
    "### Predict values"
   ]
  },
  {
   "cell_type": "code",
   "execution_count": 46,
   "id": "0ecf1899",
   "metadata": {},
   "outputs": [],
   "source": [
    "# Predict values\n",
    "l_model.fit(X_train, y_train)\n",
    "y_pred = l_model.predict(X_test)"
   ]
  },
  {
   "cell_type": "code",
   "execution_count": 47,
   "id": "bf69568c",
   "metadata": {},
   "outputs": [
    {
     "data": {
      "text/plain": [
       "0.7948754392727637"
      ]
     },
     "execution_count": 47,
     "metadata": {},
     "output_type": "execute_result"
    }
   ],
   "source": [
    "r2_score(y_test, y_pred)"
   ]
  },
  {
   "cell_type": "code",
   "execution_count": 48,
   "id": "151b8cc7",
   "metadata": {},
   "outputs": [
    {
     "data": {
      "text/plain": [
       "10.739458823358373"
      ]
     },
     "execution_count": 48,
     "metadata": {},
     "output_type": "execute_result"
    }
   ],
   "source": [
    "from sklearn.metrics import mean_absolute_error\n",
    "\n",
    "mean_absolute_error(y_test, y_pred)"
   ]
  },
  {
   "cell_type": "code",
   "execution_count": null,
   "id": "6f805bba",
   "metadata": {},
   "outputs": [],
   "source": []
  }
 ],
 "metadata": {
  "kernelspec": {
   "display_name": "Python 3 (ipykernel)",
   "language": "python",
   "name": "python3"
  },
  "language_info": {
   "codemirror_mode": {
    "name": "ipython",
    "version": 3
   },
   "file_extension": ".py",
   "mimetype": "text/x-python",
   "name": "python",
   "nbconvert_exporter": "python",
   "pygments_lexer": "ipython3",
   "version": "3.8.12"
  }
 },
 "nbformat": 4,
 "nbformat_minor": 5
}
