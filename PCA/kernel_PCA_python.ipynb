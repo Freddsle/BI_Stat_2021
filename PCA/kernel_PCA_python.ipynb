{
 "cells": [
  {
   "cell_type": "markdown",
   "id": "397784ed",
   "metadata": {},
   "source": [
    "# Kernel PCA in python\n",
    "\n",
    "Run on data from `./Data/all_in_one.csv`. It's a file which combined files `train.csv` and `unique_m.csv`."
   ]
  },
  {
   "cell_type": "code",
   "execution_count": 1,
   "id": "70bb5077",
   "metadata": {},
   "outputs": [],
   "source": [
    "import pandas as pd\n",
    "import numpy as np\n",
    "\n",
    "from sklearn.model_selection import train_test_split\n",
    "from sklearn.decomposition import KernelPCA\n",
    "from sklearn.preprocessing import StandardScaler\n",
    "from sklearn.linear_model import LinearRegression\n",
    "\n",
    "import statsmodels.api as sm\n",
    "from sklearn.metrics import r2_score\n",
    "\n",
    "np.random.seed(42)"
   ]
  },
  {
   "cell_type": "markdown",
   "id": "f4c65692",
   "metadata": {},
   "source": [
    "### Downloading, spliting and standartisition"
   ]
  },
  {
   "cell_type": "code",
   "execution_count": 29,
   "id": "a92d003c",
   "metadata": {},
   "outputs": [
    {
     "data": {
      "text/plain": [
       "(21263, 159)"
      ]
     },
     "execution_count": 29,
     "metadata": {},
     "output_type": "execute_result"
    }
   ],
   "source": [
    "# download\n",
    "data = pd.read_csv('./Data/all_in_one.csv')"
   ]
  },
  {
   "cell_type": "code",
   "execution_count": 3,
   "id": "8dd19114",
   "metadata": {},
   "outputs": [],
   "source": [
    "# split \n",
    "train, test = train_test_split(data, test_size = 0.25, random_state = 0)\n",
    "\n",
    "X_train = train.drop('critical_temp', axis=1)\n",
    "X_test = test.drop('critical_temp', axis=1)\n",
    "\n",
    "y_train = train[['critical_temp']]\n",
    "y_test = test[['critical_temp']]"
   ]
  },
  {
   "cell_type": "code",
   "execution_count": 4,
   "id": "aa5d4775",
   "metadata": {},
   "outputs": [],
   "source": [
    "# standartisation\n",
    "\n",
    "sc = StandardScaler()\n",
    "X_train = sc.fit_transform(X_train)\n",
    "X_test = sc.transform(X_test)"
   ]
  },
  {
   "cell_type": "markdown",
   "id": "57ab8cea",
   "metadata": {},
   "source": [
    "### KPCA with all components"
   ]
  },
  {
   "cell_type": "code",
   "execution_count": 5,
   "id": "3460358c",
   "metadata": {},
   "outputs": [],
   "source": [
    "# KPCA with all components\n",
    "\n",
    "kpca = KernelPCA(n_components = 158, kernel = 'rbf', n_jobs=14)"
   ]
  },
  {
   "cell_type": "code",
   "execution_count": 7,
   "id": "42bca8de",
   "metadata": {},
   "outputs": [],
   "source": [
    "X_train = kpca.fit_transform(X_train)\n",
    "X_test = kpca.transform(X_test)"
   ]
  },
  {
   "cell_type": "code",
   "execution_count": 8,
   "id": "3e65ccdb",
   "metadata": {},
   "outputs": [],
   "source": [
    "# Run linear regression\n",
    "l_model = LinearRegression()"
   ]
  },
  {
   "cell_type": "markdown",
   "id": "b457a3b8",
   "metadata": {},
   "source": [
    "### Predict values"
   ]
  },
  {
   "cell_type": "code",
   "execution_count": 20,
   "id": "20746ad5",
   "metadata": {},
   "outputs": [],
   "source": [
    "# Predict values\n",
    "l_model.fit(X_train, y_train)\n",
    "y_pred = l_model.predict(X_test)\n",
    "\n",
    "y_tt = l_model.predict(X_train)"
   ]
  },
  {
   "cell_type": "code",
   "execution_count": 23,
   "id": "b97ebfd7",
   "metadata": {},
   "outputs": [
    {
     "data": {
      "text/plain": [
       "0.7948754392727637"
      ]
     },
     "execution_count": 23,
     "metadata": {},
     "output_type": "execute_result"
    }
   ],
   "source": [
    "r2_score(y_test, y_pred)"
   ]
  },
  {
   "cell_type": "code",
   "execution_count": 25,
   "id": "1b3f7576",
   "metadata": {},
   "outputs": [
    {
     "data": {
      "text/plain": [
       "10.739458823358373"
      ]
     },
     "execution_count": 25,
     "metadata": {},
     "output_type": "execute_result"
    }
   ],
   "source": [
    "from sklearn.metrics import mean_absolute_error\n",
    "\n",
    "mean_absolute_error(y_test, y_pred)"
   ]
  },
  {
   "cell_type": "markdown",
   "id": "cc592f6d",
   "metadata": {},
   "source": [
    "# Run with 65 PC"
   ]
  },
  {
   "cell_type": "code",
   "execution_count": 30,
   "id": "d6111e8d",
   "metadata": {},
   "outputs": [],
   "source": [
    "# KPCA with all components\n",
    "\n",
    "kpca_67 = KernelPCA(n_components = 67, kernel = 'rbf', n_jobs=14)"
   ]
  },
  {
   "cell_type": "code",
   "execution_count": null,
   "id": "05bba9fd",
   "metadata": {},
   "outputs": [],
   "source": [
    "X_train_67 = kpca.fit_transform(X_train)\n",
    "X_test_67 = kpca.transform(X_test)"
   ]
  },
  {
   "cell_type": "code",
   "execution_count": null,
   "id": "4414666a",
   "metadata": {},
   "outputs": [],
   "source": [
    "# Run linear regression\n",
    "l_model_67 = LinearRegression()"
   ]
  },
  {
   "cell_type": "code",
   "execution_count": null,
   "id": "22e543ef",
   "metadata": {},
   "outputs": [],
   "source": [
    "# Predict values\n",
    "l_model_67.fit(X_train_67, y_train)\n",
    "y_pred_67 = l_model.predict(X_test_67)"
   ]
  },
  {
   "cell_type": "code",
   "execution_count": null,
   "id": "2a2250c7",
   "metadata": {},
   "outputs": [],
   "source": [
    "r2_score(y_test, y_pred)"
   ]
  },
  {
   "cell_type": "code",
   "execution_count": null,
   "id": "4c053d17",
   "metadata": {},
   "outputs": [],
   "source": [
    "from sklearn.metrics import mean_absolute_error\n",
    "\n",
    "mean_absolute_error(y_test, y_pred)"
   ]
  }
 ],
 "metadata": {
  "kernelspec": {
   "display_name": "Python 3 (ipykernel)",
   "language": "python",
   "name": "python3"
  },
  "language_info": {
   "codemirror_mode": {
    "name": "ipython",
    "version": 3
   },
   "file_extension": ".py",
   "mimetype": "text/x-python",
   "name": "python",
   "nbconvert_exporter": "python",
   "pygments_lexer": "ipython3",
   "version": "3.8.12"
  }
 },
 "nbformat": 4,
 "nbformat_minor": 5
}
